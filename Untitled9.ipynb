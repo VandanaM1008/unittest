{
  "nbformat": 4,
  "nbformat_minor": 0,
  "metadata": {
    "colab": {
      "provenance": []
    },
    "kernelspec": {
      "name": "python3",
      "display_name": "Python 3"
    },
    "language_info": {
      "name": "python"
    }
  },
  "cells": [
    {
      "cell_type": "code",
      "source": [
        "!pip install Calculator\n",
        "import Calculator\n",
        "import unittest\n",
        "\n",
        "class CalculatorTests(unittest.TestCase):\n",
        "    def test_add(self):\n",
        "      calc = Calculator()\n",
        "      a = 3\n",
        "      b = 7\n",
        "      expected =  a+b\n",
        "      res =  calc.add(a, b)\n",
        "      message = \"The sum of \"+ str(a) + \" and \" + str(b) + \" should be \" + str(expected) + \" but the result is \" + str(res)\n",
        "      self.assertEqual(expected, res, message)\n",
        "      if __name__ == '__main__':\n",
        "        unittest.main()\n",
        "\n",
        "\n",
        "\n"
      ],
      "metadata": {
        "colab": {
          "base_uri": "https://localhost:8080/"
        },
        "id": "c99FgP6yHa6O",
        "outputId": "d999ea48-399b-403d-942f-ef2dcc64f858"
      },
      "execution_count": 2,
      "outputs": [
        {
          "output_type": "stream",
          "name": "stdout",
          "text": [
            "Looking in indexes: https://pypi.org/simple, https://us-python.pkg.dev/colab-wheels/public/simple/\n",
            "Collecting Calculator\n",
            "  Downloading Calculator-1.1.0.zip (983 bytes)\n",
            "  Preparing metadata (setup.py) ... \u001b[?25l\u001b[?25hdone\n",
            "Building wheels for collected packages: Calculator\n",
            "  Building wheel for Calculator (setup.py) ... \u001b[?25l\u001b[?25hdone\n",
            "  Created wheel for Calculator: filename=Calculator-1.1.0-py3-none-any.whl size=1400 sha256=ec94679f7231da0a719cb827a622a053d3915b1e0caf94d3976f5d8aeb9250d6\n",
            "  Stored in directory: /root/.cache/pip/wheels/28/0c/dc/056a8d1f5ac6837b4f001c7351d028beb8bd6182d3e37eb768\n",
            "Successfully built Calculator\n",
            "Installing collected packages: Calculator\n",
            "Successfully installed Calculator-1.1.0\n"
          ]
        }
      ]
    },
    {
      "cell_type": "code",
      "source": [
        "import math\n",
        "class Calculator: \n",
        "  def add(self, a, b):\n",
        "    return a+b\n",
        "  def subtract(self, a, b):\n",
        "    return a-b\n",
        "  def squareRoot(self, a):\n",
        "    return math.sqrt(a)\n",
        "  def multiply(self,a, b):\n",
        "    return a*b"
      ],
      "metadata": {
        "id": "lK5_VZnUH9wK"
      },
      "execution_count": 3,
      "outputs": []
    },
    {
      "cell_type": "code",
      "source": [
        "!pip install Calculator\n",
        "import unittest\n",
        "import Calculator\n",
        "\n",
        "class CalculatorTest (unittest.TestCase):\n",
        "  \n",
        "  def setUp(self):\n",
        "    self.calc = Calculator()\n",
        "\n",
        "  def test_add(self):\n",
        "    self.assertEqual(10, self.calc.add(3, 7), \"The addition is wrong\")\n",
        "\n",
        "  def test_subtract(self):\n",
        "    self.assertEqual(12, self.calc.subtract(15, 3), \"Subtraction is wrong\")\n",
        "\n",
        "  def test_multiply(self):\n",
        "    self.assertEqual(30, self.calc.multiply(5, 6), \"Multiplication is wrong\")\n",
        "\n",
        "  def test_multiple_addition(self):\n",
        "    for a in range(10):\n",
        "      for b in range(10):\n",
        "        with self.subTest(\"add \" + str(a) + \" and \" + str(b)):\n",
        "          self.assertEqual(a+b, self.calc.add(a, b))\n",
        "  \n",
        "  def test_negative_root(self):\n",
        "    self.assertRaises(ValueError, self.calc.squareRoot, -1)\n",
        "    if _name_ == '_main_':\n",
        "      unittest.main()"
      ],
      "metadata": {
        "colab": {
          "base_uri": "https://localhost:8080/"
        },
        "id": "2qaOysISiVmc",
        "outputId": "866ead31-bb46-4ae3-aff1-067020466a7c"
      },
      "execution_count": 5,
      "outputs": [
        {
          "output_type": "stream",
          "name": "stdout",
          "text": [
            "Looking in indexes: https://pypi.org/simple, https://us-python.pkg.dev/colab-wheels/public/simple/\n",
            "Requirement already satisfied: Calculator in /usr/local/lib/python3.10/dist-packages (1.1.0)\n"
          ]
        }
      ]
    },
    {
      "cell_type": "code",
      "source": [],
      "metadata": {
        "id": "uf1UAu56iiU4"
      },
      "execution_count": null,
      "outputs": []
    }
  ]
}