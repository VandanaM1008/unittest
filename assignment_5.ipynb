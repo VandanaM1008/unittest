{
  "nbformat": 4,
  "nbformat_minor": 0,
  "metadata": {
    "colab": {
      "provenance": []
    },
    "kernelspec": {
      "name": "python3",
      "display_name": "Python 3"
    },
    "language_info": {
      "name": "python"
    }
  },
  "cells": [
    {
      "cell_type": "code",
      "execution_count": null,
      "metadata": {
        "colab": {
          "base_uri": "https://localhost:8080/"
        },
        "id": "QKB_gL_cdog9",
        "outputId": "2092cf70-7617-40b0-ac7f-6efe421db832"
      },
      "outputs": [
        {
          "output_type": "stream",
          "name": "stdout",
          "text": [
            "The sum of 5 and 3 is: 8\n"
          ]
        }
      ],
      "source": [
        "num1 = 5\n",
        "num2 = 3\n",
        "sum = num1 + num2\n",
        "print(\"The sum of\", num1, \"and\", num2, \"is:\", sum)"
      ]
    },
    {
      "cell_type": "code",
      "source": [
        "name= input(\"enter your name\")\n",
        "print(name)"
      ],
      "metadata": {
        "id": "g-zqIPWwfZlC",
        "colab": {
          "base_uri": "https://localhost:8080/"
        },
        "outputId": "3669c181-8341-405c-b54c-3e31a4a25db5"
      },
      "execution_count": 1,
      "outputs": [
        {
          "output_type": "stream",
          "name": "stdout",
          "text": [
            "enter your namevandana\n",
            "vandana\n"
          ]
        }
      ]
    },
    {
      "cell_type": "code",
      "source": [],
      "metadata": {
        "id": "CpftrTxWg_mn"
      },
      "execution_count": null,
      "outputs": []
    }
  ]
}